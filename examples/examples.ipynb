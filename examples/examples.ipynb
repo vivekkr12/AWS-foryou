{
 "cells": [
  {
   "cell_type": "markdown",
   "metadata": {},
   "source": [
    "# <center> AWS-foryou </center>\n",
    "### <center> examples </center>\n",
    "---"
   ]
  },
  {
   "cell_type": "markdown",
   "metadata": {},
   "source": [
    "### Example 1\n",
    "Running sklearndiabetes.py as the user's algorithm."
   ]
  },
  {
   "cell_type": "code",
   "execution_count": 1,
   "metadata": {},
   "outputs": [
    {
     "name": "stderr",
     "output_type": "stream",
     "text": [
      "Using TensorFlow backend.\n"
     ]
    }
   ],
   "source": [
    "import boto3\n",
    "import numpy as np\n",
    "import os\n",
    "import pandas as pd\n",
    "from sklearn import datasets\n",
    "from sklearn import preprocessing\n",
    "from sklearn.decomposition import PCA\n",
    "from sklearn.linear_model import LinearRegression\n",
    "from sklearn.model_selection import GridSearchCV\n",
    "from sklearn.model_selection import train_test_split\n",
    "from sklearn.svm import SVR\n",
    "import time\n",
    "\n",
    "os.chdir(\"..\")\n",
    "\n",
    "from awsforyou import aws_foryou\n",
    "import examples.sklearn_diabetes as sdb"
   ]
  },
  {
   "cell_type": "code",
   "execution_count": 2,
   "metadata": {},
   "outputs": [],
   "source": [
    "# writing the csv files for x and y (data_loc and target_loc respectively)\n",
    "# datasize is 3 times larger than the standard diabetes dataset\n",
    "x,y = sdb.get_diabetes(3)"
   ]
  },
  {
   "cell_type": "code",
   "execution_count": 3,
   "metadata": {},
   "outputs": [],
   "source": [
    "# assign the locations of csv files\n",
    "data_loc = './examples/x_diabetes.csv'\n",
    "target_loc = './examples/y_diabetes.csv'"
   ]
  },
  {
   "cell_type": "code",
   "execution_count": 4,
   "metadata": {},
   "outputs": [
    {
     "name": "stdout",
     "output_type": "stream",
     "text": [
      "linear regression score = 0.199718\n",
      "best hyperparameters estimate from grid search = \n",
      " SVR(C=3, cache_size=200, coef0=0.0, degree=3, epsilon=0.1, gamma='scale',\n",
      "  kernel='sigmoid', max_iter=-1, shrinking=True, tol=0.001, verbose=False) \n",
      "score from using best hyperparameters = 0.213365\n",
      "begining 6-components PCA decomposition\n",
      "percentage of variance explained = 0.775656\n",
      "repeat grid search with PCA-transformed data\n",
      "best hyperparameters estimate from grid search = \n",
      " SVR(C=3, cache_size=200, coef0=0.0, degree=3, epsilon=0.1, gamma='auto',\n",
      "  kernel='sigmoid', max_iter=-1, shrinking=True, tol=0.001, verbose=False) \n",
      "score from using best hyperparameters = 0.224709\n",
      "runtime is 223.354946 seconds\n",
      "best model is \n",
      " SVR(C=3, cache_size=200, coef0=0.0, degree=3, epsilon=0.1, gamma='auto',\n",
      "  kernel='sigmoid', max_iter=-1, shrinking=True, tol=0.001, verbose=False)\n"
     ]
    }
   ],
   "source": [
    "# reference start time\n",
    "start = time.time()\n",
    "best_model = sdb.run_sklearn_diabetes(data_loc, target_loc)\n",
    "finish = time.time()\n",
    "runtime = finish - start\n",
    "print(\"runtime is %f seconds\" % runtime)\n",
    "print(\"best model is \\n %s\" % best_model)"
   ]
  },
  {
   "cell_type": "code",
   "execution_count": 5,
   "metadata": {},
   "outputs": [
    {
     "name": "stdout",
     "output_type": "stream",
     "text": [
      "linear regression score = -0.092879\n",
      "best hyperparameters estimate from grid search = \n",
      " SVR(C=1, cache_size=200, coef0=0.0, degree=5, epsilon=0.1, gamma='auto',\n",
      "  kernel='poly', max_iter=-1, shrinking=True, tol=0.001, verbose=False) \n",
      "score from using best hyperparameters = -0.053999\n",
      "begining 6-components PCA decomposition\n",
      "percentage of variance explained = 0.831216\n",
      "repeat grid search with PCA-transformed data\n",
      "best hyperparameters estimate from grid search = \n",
      " SVR(C=0.1, cache_size=200, coef0=0.0, degree=5, epsilon=0.1, gamma='auto',\n",
      "  kernel='poly', max_iter=-1, shrinking=True, tol=0.001, verbose=False) \n",
      "score from using best hyperparameters = -0.048403\n",
      "point 1, iteration 1 complete.\n",
      "linear regression score = -0.092879\n",
      "best hyperparameters estimate from grid search = \n",
      " SVR(C=1, cache_size=200, coef0=0.0, degree=5, epsilon=0.1, gamma='auto',\n",
      "  kernel='poly', max_iter=-1, shrinking=True, tol=0.001, verbose=False) \n",
      "score from using best hyperparameters = -0.053999\n",
      "begining 6-components PCA decomposition\n",
      "percentage of variance explained = 0.831216\n",
      "repeat grid search with PCA-transformed data\n",
      "best hyperparameters estimate from grid search = \n",
      " SVR(C=0.1, cache_size=200, coef0=0.0, degree=5, epsilon=0.1, gamma='auto',\n",
      "  kernel='poly', max_iter=-1, shrinking=True, tol=0.001, verbose=False) \n",
      "score from using best hyperparameters = -0.048403\n",
      "point 1, iteration 2 complete.\n",
      "linear regression score = -0.092879\n",
      "best hyperparameters estimate from grid search = \n",
      " SVR(C=1, cache_size=200, coef0=0.0, degree=5, epsilon=0.1, gamma='auto',\n",
      "  kernel='poly', max_iter=-1, shrinking=True, tol=0.001, verbose=False) \n",
      "score from using best hyperparameters = -0.053999\n",
      "begining 6-components PCA decomposition\n",
      "percentage of variance explained = 0.831216\n",
      "repeat grid search with PCA-transformed data\n",
      "best hyperparameters estimate from grid search = \n",
      " SVR(C=0.1, cache_size=200, coef0=0.0, degree=5, epsilon=0.1, gamma='auto',\n",
      "  kernel='poly', max_iter=-1, shrinking=True, tol=0.001, verbose=False) \n",
      "score from using best hyperparameters = -0.048403\n",
      "point 1, iteration 3 complete.\n",
      "linear regression score = 0.164878\n",
      "best hyperparameters estimate from grid search = \n",
      " SVR(C=1, cache_size=200, coef0=0.0, degree=3, epsilon=0.1, gamma='scale',\n",
      "  kernel='linear', max_iter=-1, shrinking=True, tol=0.001, verbose=False) \n",
      "score from using best hyperparameters = 0.267202\n",
      "begining 6-components PCA decomposition\n",
      "percentage of variance explained = 0.801720\n",
      "repeat grid search with PCA-transformed data\n",
      "best hyperparameters estimate from grid search = \n",
      " SVR(C=3, cache_size=200, coef0=0.0, degree=3, epsilon=0.1, gamma='scale',\n",
      "  kernel='linear', max_iter=-1, shrinking=True, tol=0.001, verbose=False) \n",
      "score from using best hyperparameters = 0.252620\n",
      "point 2, iteration 1 complete.\n",
      "linear regression score = 0.164878\n",
      "best hyperparameters estimate from grid search = \n",
      " SVR(C=1, cache_size=200, coef0=0.0, degree=3, epsilon=0.1, gamma='scale',\n",
      "  kernel='linear', max_iter=-1, shrinking=True, tol=0.001, verbose=False) \n",
      "score from using best hyperparameters = 0.267202\n",
      "begining 6-components PCA decomposition\n",
      "percentage of variance explained = 0.801720\n",
      "repeat grid search with PCA-transformed data\n",
      "best hyperparameters estimate from grid search = \n",
      " SVR(C=3, cache_size=200, coef0=0.0, degree=3, epsilon=0.1, gamma='scale',\n",
      "  kernel='linear', max_iter=-1, shrinking=True, tol=0.001, verbose=False) \n",
      "score from using best hyperparameters = 0.252620\n",
      "point 2, iteration 2 complete.\n",
      "linear regression score = 0.164878\n",
      "best hyperparameters estimate from grid search = \n",
      " SVR(C=1, cache_size=200, coef0=0.0, degree=3, epsilon=0.1, gamma='scale',\n",
      "  kernel='linear', max_iter=-1, shrinking=True, tol=0.001, verbose=False) \n",
      "score from using best hyperparameters = 0.267202\n",
      "begining 6-components PCA decomposition\n",
      "percentage of variance explained = 0.801720\n",
      "repeat grid search with PCA-transformed data\n",
      "best hyperparameters estimate from grid search = \n",
      " SVR(C=3, cache_size=200, coef0=0.0, degree=3, epsilon=0.1, gamma='scale',\n",
      "  kernel='linear', max_iter=-1, shrinking=True, tol=0.001, verbose=False) \n",
      "score from using best hyperparameters = 0.252620\n",
      "point 2, iteration 3 complete.\n",
      "linear regression score = 0.101181\n",
      "best hyperparameters estimate from grid search = \n",
      " SVR(C=2, cache_size=200, coef0=0.0, degree=3, epsilon=0.1, gamma='scale',\n",
      "  kernel='linear', max_iter=-1, shrinking=True, tol=0.001, verbose=False) \n",
      "score from using best hyperparameters = 0.157328\n",
      "begining 6-components PCA decomposition\n",
      "percentage of variance explained = 0.788614\n",
      "repeat grid search with PCA-transformed data\n",
      "best hyperparameters estimate from grid search = \n",
      " SVR(C=1, cache_size=200, coef0=0.0, degree=3, epsilon=0.1, gamma='scale',\n",
      "  kernel='linear', max_iter=-1, shrinking=True, tol=0.001, verbose=False) \n",
      "score from using best hyperparameters = 0.162661\n",
      "point 3, iteration 1 complete.\n",
      "linear regression score = 0.101181\n",
      "best hyperparameters estimate from grid search = \n",
      " SVR(C=2, cache_size=200, coef0=0.0, degree=3, epsilon=0.1, gamma='scale',\n",
      "  kernel='linear', max_iter=-1, shrinking=True, tol=0.001, verbose=False) \n",
      "score from using best hyperparameters = 0.157328\n",
      "begining 6-components PCA decomposition\n",
      "percentage of variance explained = 0.788614\n",
      "repeat grid search with PCA-transformed data\n",
      "best hyperparameters estimate from grid search = \n",
      " SVR(C=1, cache_size=200, coef0=0.0, degree=3, epsilon=0.1, gamma='scale',\n",
      "  kernel='linear', max_iter=-1, shrinking=True, tol=0.001, verbose=False) \n",
      "score from using best hyperparameters = 0.162661\n",
      "point 3, iteration 2 complete.\n",
      "linear regression score = 0.101181\n",
      "best hyperparameters estimate from grid search = \n",
      " SVR(C=2, cache_size=200, coef0=0.0, degree=3, epsilon=0.1, gamma='scale',\n",
      "  kernel='linear', max_iter=-1, shrinking=True, tol=0.001, verbose=False) \n",
      "score from using best hyperparameters = 0.157328\n",
      "begining 6-components PCA decomposition\n",
      "percentage of variance explained = 0.788614\n",
      "repeat grid search with PCA-transformed data\n",
      "best hyperparameters estimate from grid search = \n",
      " SVR(C=1, cache_size=200, coef0=0.0, degree=3, epsilon=0.1, gamma='scale',\n",
      "  kernel='linear', max_iter=-1, shrinking=True, tol=0.001, verbose=False) \n",
      "score from using best hyperparameters = 0.162661\n",
      "point 3, iteration 3 complete.\n",
      "Removing points data files.\n",
      "WARNING:tensorflow:From /home/nawats/.local/lib/python3.6/site-packages/tensorflow/python/framework/op_def_library.py:263: colocate_with (from tensorflow.python.framework.ops) is deprecated and will be removed in a future version.\n",
      "Instructions for updating:\n",
      "Colocations handled automatically by placer.\n",
      "WARNING:tensorflow:From /home/nawats/.local/lib/python3.6/site-packages/tensorflow/python/ops/math_ops.py:3066: to_int32 (from tensorflow.python.ops.math_ops) is deprecated and will be removed in a future version.\n",
      "Instructions for updating:\n",
      "Use tf.cast instead.\n",
      "mnist runtime: 43.891830 \n"
     ]
    }
   ],
   "source": [
    "df = aws_foryou.aws_foryou(\"run_sklearn_diabetes(data_loc='examples/x_diabetes.csv', target_loc='examples/y_diabetes.csv')\", 'examples.sklearn_diabetes')\n",
    "df"
   ]
  },
  {
   "cell_type": "markdown",
   "metadata": {},
   "source": [
    "The command above runs the algorithm \"run_sklearn_diabetes\" form examples.sklearn_diabetes through aws_foryou to produce a html report file."
   ]
  },
  {
   "cell_type": "code",
   "execution_count": null,
   "metadata": {},
   "outputs": [],
   "source": []
  }
 ],
 "metadata": {
  "kernelspec": {
   "display_name": "Python 3",
   "language": "python",
   "name": "python3"
  },
  "language_info": {
   "codemirror_mode": {
    "name": "ipython",
    "version": 3
   },
   "file_extension": ".py",
   "mimetype": "text/x-python",
   "name": "python",
   "nbconvert_exporter": "python",
   "pygments_lexer": "ipython3",
   "version": "3.6.7"
  }
 },
 "nbformat": 4,
 "nbformat_minor": 2
}
